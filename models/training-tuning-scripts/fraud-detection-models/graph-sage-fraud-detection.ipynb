{
 "cells": [
  {
   "cell_type": "markdown",
   "metadata": {},
   "source": [
    "# Fraud detection pipeline using Graph Neural Network"
   ]
  },
  {
   "cell_type": "markdown",
   "metadata": {},
   "source": [
    "### Content\n",
    "1. Introduction\n",
    "1. Load transaction data\n",
    "2. Graph construction\n",
    "3. GraphSage training\n",
    "5. Classifiction and Prediction\n",
    "6. Evaluation\n",
    "7. Conclusion"
   ]
  },
  {
   "cell_type": "markdown",
   "metadata": {},
   "source": [
    "### 1. Introduction\n",
    "This workflow shows an application of a graph neural network for fraud detection in a credit card transaction graph. We use a transaction dataset that includes three types of nodes, `transaction`, `client`, and `merchant` nodes. We use `GraphSAGE` along `XGBoost` to identify frauds in transactions. Since the graph is heterogenous we employ HinSAGE a heterogenous implementation of GraphSAGE.\n",
    "\n",
    "First, GraphSAGE is trained separately to produce embedding of transaction nodes, then the embedding is fed to `XGBoost` classifier to identify fraud and nonfraud transactions. During the inference stage,  an embedding for a new transaction is computed from the trained GraphSAGE model and then feed to XGBoost model to get the anomaly scores."
   ]
  },
  {
   "cell_type": "markdown",
   "metadata": {},
   "source": [
    "### 2. Loading the Credit Card Transaction Data"
   ]
  },
  {
   "cell_type": "code",
   "execution_count": 86,
   "metadata": {},
   "outputs": [],
   "source": [
    "#!pip install stellargraph"
   ]
  },
  {
   "cell_type": "code",
   "execution_count": 18,
   "metadata": {},
   "outputs": [
    {
     "name": "stdout",
     "output_type": "stream",
     "text": [
      "The autoreload extension is already loaded. To reload it, use:\n",
      "  %reload_ext autoreload\n"
     ]
    }
   ],
   "source": [
    "%load_ext autoreload\n",
    "%autoreload 2\n",
    "import pandas as pd\n",
    "import numpy as np\n",
    "import matplotlib.pylab as plt\n",
    "#from HinSAGE import HinSAGE_Representation_Learner\n",
    "from evaluation import Evaluation\n",
    "from HinSAGE import HinSAGE_Representation_Learner\n",
    "from stellargraph import StellarGraph\n",
    "import networkx as nx\n",
    "import tensorflow as tf"
   ]
  },
  {
   "cell_type": "code",
   "execution_count": 6,
   "metadata": {},
   "outputs": [],
   "source": [
    "# set seed \n",
    "np.random.seed(1001)\n",
    "tf.random.set_seed(1001)"
   ]
  },
  {
   "cell_type": "markdown",
   "metadata": {},
   "source": [
    "##### Load traing and test dataset"
   ]
  },
  {
   "cell_type": "code",
   "execution_count": 67,
   "metadata": {},
   "outputs": [],
   "source": [
    "# Replace training-data.csv and validation-data.csv with training & validation csv in dataset file.\n",
    "TRAINING_DATA ='../../datasets/training-data/fraud-detection-training-data.csv'\n",
    "VALIDATION_DATA = '../../datasets/validation-data/fraud-detection-validation-data.csv'\n",
    "train_data = pd.read_csv(TRAINING_DATA)\n",
    "inductive_data = pd.read_csv(VALIDATION_DATA)"
   ]
  },
  {
   "cell_type": "code",
   "execution_count": 68,
   "metadata": {},
   "outputs": [
    {
     "data": {
      "text/html": [
       "<div>\n",
       "<style scoped>\n",
       "    .dataframe tbody tr th:only-of-type {\n",
       "        vertical-align: middle;\n",
       "    }\n",
       "\n",
       "    .dataframe tbody tr th {\n",
       "        vertical-align: top;\n",
       "    }\n",
       "\n",
       "    .dataframe thead th {\n",
       "        text-align: right;\n",
       "    }\n",
       "</style>\n",
       "<table border=\"1\" class=\"dataframe\">\n",
       "  <thead>\n",
       "    <tr style=\"text-align: right;\">\n",
       "      <th></th>\n",
       "      <th>index</th>\n",
       "      <th>1000</th>\n",
       "      <th>1001</th>\n",
       "      <th>client_node</th>\n",
       "      <th>merchant_node</th>\n",
       "      <th>1004</th>\n",
       "      <th>1005</th>\n",
       "      <th>1006</th>\n",
       "      <th>1007</th>\n",
       "      <th>1008</th>\n",
       "      <th>...</th>\n",
       "      <th>1104</th>\n",
       "      <th>1105</th>\n",
       "      <th>1106</th>\n",
       "      <th>1107</th>\n",
       "      <th>1108</th>\n",
       "      <th>1109</th>\n",
       "      <th>1110</th>\n",
       "      <th>1111</th>\n",
       "      <th>1112</th>\n",
       "      <th>fraud_label</th>\n",
       "    </tr>\n",
       "  </thead>\n",
       "  <tbody>\n",
       "    <tr>\n",
       "      <th>0</th>\n",
       "      <td>0</td>\n",
       "      <td>487.50</td>\n",
       "      <td>1</td>\n",
       "      <td>58744</td>\n",
       "      <td>91818</td>\n",
       "      <td>100499</td>\n",
       "      <td>1</td>\n",
       "      <td>1</td>\n",
       "      <td>8</td>\n",
       "      <td>9</td>\n",
       "      <td>...</td>\n",
       "      <td>0</td>\n",
       "      <td>0</td>\n",
       "      <td>0</td>\n",
       "      <td>0</td>\n",
       "      <td>0</td>\n",
       "      <td>0</td>\n",
       "      <td>0</td>\n",
       "      <td>0</td>\n",
       "      <td>0</td>\n",
       "      <td>1</td>\n",
       "    </tr>\n",
       "    <tr>\n",
       "      <th>1</th>\n",
       "      <td>1</td>\n",
       "      <td>1191.97</td>\n",
       "      <td>1</td>\n",
       "      <td>62913</td>\n",
       "      <td>91951</td>\n",
       "      <td>100532</td>\n",
       "      <td>1</td>\n",
       "      <td>1</td>\n",
       "      <td>9</td>\n",
       "      <td>23</td>\n",
       "      <td>...</td>\n",
       "      <td>0</td>\n",
       "      <td>0</td>\n",
       "      <td>0</td>\n",
       "      <td>0</td>\n",
       "      <td>0</td>\n",
       "      <td>0</td>\n",
       "      <td>0</td>\n",
       "      <td>0</td>\n",
       "      <td>0</td>\n",
       "      <td>0</td>\n",
       "    </tr>\n",
       "    <tr>\n",
       "      <th>2</th>\n",
       "      <td>2</td>\n",
       "      <td>231.79</td>\n",
       "      <td>0</td>\n",
       "      <td>72066</td>\n",
       "      <td>100382</td>\n",
       "      <td>100530</td>\n",
       "      <td>1</td>\n",
       "      <td>1</td>\n",
       "      <td>15</td>\n",
       "      <td>57</td>\n",
       "      <td>...</td>\n",
       "      <td>0</td>\n",
       "      <td>0</td>\n",
       "      <td>0</td>\n",
       "      <td>0</td>\n",
       "      <td>0</td>\n",
       "      <td>0</td>\n",
       "      <td>0</td>\n",
       "      <td>0</td>\n",
       "      <td>0</td>\n",
       "      <td>1</td>\n",
       "    </tr>\n",
       "    <tr>\n",
       "      <th>3</th>\n",
       "      <td>3</td>\n",
       "      <td>12.35</td>\n",
       "      <td>0</td>\n",
       "      <td>71679</td>\n",
       "      <td>96509</td>\n",
       "      <td>100809</td>\n",
       "      <td>1</td>\n",
       "      <td>1</td>\n",
       "      <td>11</td>\n",
       "      <td>23</td>\n",
       "      <td>...</td>\n",
       "      <td>0</td>\n",
       "      <td>0</td>\n",
       "      <td>0</td>\n",
       "      <td>0</td>\n",
       "      <td>1</td>\n",
       "      <td>0</td>\n",
       "      <td>0</td>\n",
       "      <td>0</td>\n",
       "      <td>0</td>\n",
       "      <td>1</td>\n",
       "    </tr>\n",
       "    <tr>\n",
       "      <th>4</th>\n",
       "      <td>4</td>\n",
       "      <td>58.37</td>\n",
       "      <td>0</td>\n",
       "      <td>71749</td>\n",
       "      <td>91760</td>\n",
       "      <td>100484</td>\n",
       "      <td>1</td>\n",
       "      <td>1</td>\n",
       "      <td>11</td>\n",
       "      <td>24</td>\n",
       "      <td>...</td>\n",
       "      <td>0</td>\n",
       "      <td>0</td>\n",
       "      <td>0</td>\n",
       "      <td>0</td>\n",
       "      <td>0</td>\n",
       "      <td>0</td>\n",
       "      <td>0</td>\n",
       "      <td>0</td>\n",
       "      <td>0</td>\n",
       "      <td>0</td>\n",
       "    </tr>\n",
       "  </tbody>\n",
       "</table>\n",
       "<p>5 rows × 115 columns</p>\n",
       "</div>"
      ],
      "text/plain": [
       "   index     1000  1001  client_node  merchant_node    1004  1005  1006  1007  \\\n",
       "0      0   487.50     1        58744          91818  100499     1     1     8   \n",
       "1      1  1191.97     1        62913          91951  100532     1     1     9   \n",
       "2      2   231.79     0        72066         100382  100530     1     1    15   \n",
       "3      3    12.35     0        71679          96509  100809     1     1    11   \n",
       "4      4    58.37     0        71749          91760  100484     1     1    11   \n",
       "\n",
       "   1008  ...  1104  1105  1106  1107  1108  1109  1110  1111  1112  \\\n",
       "0     9  ...     0     0     0     0     0     0     0     0     0   \n",
       "1    23  ...     0     0     0     0     0     0     0     0     0   \n",
       "2    57  ...     0     0     0     0     0     0     0     0     0   \n",
       "3    23  ...     0     0     0     0     1     0     0     0     0   \n",
       "4    24  ...     0     0     0     0     0     0     0     0     0   \n",
       "\n",
       "   fraud_label  \n",
       "0            1  \n",
       "1            0  \n",
       "2            1  \n",
       "3            1  \n",
       "4            0  \n",
       "\n",
       "[5 rows x 115 columns]"
      ]
     },
     "execution_count": 68,
     "metadata": {},
     "output_type": "execute_result"
    }
   ],
   "source": [
    "train_data.head(5)"
   ]
  },
  {
   "cell_type": "code",
   "execution_count": 69,
   "metadata": {},
   "outputs": [],
   "source": [
    "# Set index to transaction id \n",
    "train_data.index = train_data['index']\n",
    "inductive_data.index = inductive_data['index']"
   ]
  },
  {
   "cell_type": "markdown",
   "metadata": {},
   "source": [
    "Since the number of samples of training data is small we augment data using benign transaction examples from the original training samples. This increase the number of benign example and reduce the proportion of fraud label transactions. This in similar to practical situation where fraud labels are few in proportion."
   ]
  },
  {
   "cell_type": "code",
   "execution_count": 70,
   "metadata": {},
   "outputs": [],
   "source": [
    "# Increase number of samples.\n",
    "def augement_data(train_data=train_data, n=20):\n",
    "    max_id = inductive_data.index.max()\n",
    "    non_fraud = train_data[train_data['fraud_label'] == 0]\n",
    "    \n",
    "    non_fraud = non_fraud.drop(['index'], axis=1)\n",
    "    df_fraud = pd.concat([non_fraud for i in range(n)])\n",
    "    df_fraud.index = np.arange(1076, 1076 + df_fraud.shape[0])\n",
    "    df_fraud['index'] = df_fraud.index\n",
    "    \n",
    "    return pd.concat((train_data, df_fraud))"
   ]
  },
  {
   "cell_type": "code",
   "execution_count": 71,
   "metadata": {},
   "outputs": [],
   "source": [
    "train_data = augement_data(train_data, n=20)"
   ]
  },
  {
   "cell_type": "markdown",
   "metadata": {},
   "source": [
    "The `train_data` variable stores the data that will be used to construct graphs on which the representation learners can train. \n",
    "The `inductive_data` will be used to test the inductive performance of our representation learning algorithms."
   ]
  },
  {
   "cell_type": "code",
   "execution_count": 72,
   "metadata": {},
   "outputs": [
    {
     "name": "stdout",
     "output_type": "stream",
     "text": [
      "The distribution of fraud for the train data is:\n",
      " 0    11865\n",
      "1      188\n",
      "Name: fraud_label, dtype: int64\n",
      "The distribution of fraud for the inductive data is:\n",
      " 0    244\n",
      "1     21\n",
      "Name: fraud_label, dtype: int64\n"
     ]
    }
   ],
   "source": [
    "print('The distribution of fraud for the train data is:\\n', train_data['fraud_label'].value_counts())\n",
    "print('The distribution of fraud for the inductive data is:\\n', inductive_data['fraud_label'].value_counts())"
   ]
  },
  {
   "cell_type": "markdown",
   "metadata": {},
   "source": [
    "### 3. Construct transasction graph network"
   ]
  },
  {
   "cell_type": "markdown",
   "metadata": {},
   "source": [
    "Here, nodes, edges, and features are passed to the `graph_construction` method. Note that client and merchant node data hold a dummy attribute with value 1. This is because we want all the relevant transaction data to reside at the transaction nodes and StellarGraph's current HinSAGE implementation requires all nodes to have features."
   ]
  },
  {
   "cell_type": "code",
   "execution_count": 73,
   "metadata": {},
   "outputs": [],
   "source": [
    "def graph_construction(nodes, edges, node_features):\n",
    "    g_nx = nx.Graph()\n",
    "    # add nodes\n",
    "    for key, values in nodes.items():\n",
    "        g_nx.add_nodes_from(values, ntype=key)\n",
    "    # add edges\n",
    "    for edge in edges:\n",
    "        g_nx.add_edges_from(edge)\n",
    "\n",
    "    return StellarGraph(g_nx, node_type_name=\"ntype\", node_features=node_features)"
   ]
  },
  {
   "cell_type": "code",
   "execution_count": 74,
   "metadata": {},
   "outputs": [],
   "source": [
    "def build_graph_features(dataset):\n",
    "    # Build graph features\n",
    "    transaction_node_data = dataset.drop([\"client_node\",\"merchant_node\",\"fraud_label\", \"index\"], axis=1)\n",
    "    #transaction_node_data = (transaction_node_data - transaction_node_data.mean(0)) / (0.0001 + transaction_node_data.std(0))\n",
    "    client_node_data = pd.DataFrame([1]*len(dataset.client_node.unique())).set_index(dataset.client_node.unique())\n",
    "    merchant_node_data = pd.DataFrame([1]*len(dataset.merchant_node.unique())).set_index(dataset.merchant_node.unique())\n",
    "\n",
    "    nodes = {\"client\":dataset.client_node, \"merchant\":dataset.merchant_node, \"transaction\":dataset.index}\n",
    "    edges = [zip(dataset.client_node, dataset.index),zip(dataset.merchant_node, dataset.index)]\n",
    "    features = {\"transaction\": transaction_node_data, 'client': client_node_data, 'merchant': merchant_node_data}\n",
    "    graph = graph_construction(nodes, edges, features)\n",
    "    return graph"
   ]
  },
  {
   "cell_type": "code",
   "execution_count": 75,
   "metadata": {},
   "outputs": [
    {
     "name": "stderr",
     "output_type": "stream",
     "text": [
      "/opt/conda/envs/rapids/lib/python3.7/site-packages/ipykernel_launcher.py:10: DeprecationWarning: Constructing a StellarGraph directly from a NetworkX graph has been replaced by the `StellarGraph.from_networkx` function\n",
      "  # Remove the CWD from sys.path while we load stuff.\n"
     ]
    }
   ],
   "source": [
    "G = build_graph_features(train_data) # Build graph using all dataset"
   ]
  },
  {
   "cell_type": "code",
   "execution_count": 76,
   "metadata": {},
   "outputs": [
    {
     "name": "stdout",
     "output_type": "stream",
     "text": [
      "StellarGraph: Undirected multigraph\n",
      " Nodes: 13064, Edges: 24106\n",
      "\n",
      " Node types:\n",
      "  transaction: [12053]\n",
      "    Features: float32 vector, length 111\n",
      "    Edge types: transaction-default->client, transaction-default->merchant\n",
      "  client: [623]\n",
      "    Features: float32 vector, length 1\n",
      "    Edge types: client-default->transaction\n",
      "  merchant: [388]\n",
      "    Features: float32 vector, length 1\n",
      "    Edge types: merchant-default->transaction\n",
      "\n",
      " Edge types:\n",
      "    merchant-default->transaction: [12053]\n",
      "        Weights: all 1 (default)\n",
      "        Features: none\n",
      "    client-default->transaction: [12053]\n",
      "        Weights: all 1 (default)\n",
      "        Features: none\n"
     ]
    }
   ],
   "source": [
    "print(G.info())"
   ]
  },
  {
   "cell_type": "markdown",
   "metadata": {},
   "source": [
    "### 4. Train Heterogeneous GraphSAGE"
   ]
  },
  {
   "cell_type": "markdown",
   "metadata": {},
   "source": [
    "HinSAGE, a heterogeneous graph implementation of the GraphSAGE framework is trained with user specified hyperparameters. The model train several GraphSAGE models on the type of relationship between different types of nodes."
   ]
  },
  {
   "cell_type": "code",
   "execution_count": 47,
   "metadata": {},
   "outputs": [
    {
     "name": "stderr",
     "output_type": "stream",
     "text": [
      "/opt/conda/envs/rapids/lib/python3.7/site-packages/keras/optimizer_v2/adam.py:105: UserWarning: The `lr` argument is deprecated, use `learning_rate` instead.\n",
      "  super(Adam, self).__init__(name, **kwargs)\n"
     ]
    },
    {
     "name": "stdout",
     "output_type": "stream",
     "text": [
      "Epoch 1/10\n",
      "10/10 [==============================] - 12s 1s/step - loss: 0.6418 - val_loss: 0.5367\n",
      "Epoch 2/10\n",
      "10/10 [==============================] - 10s 990ms/step - loss: 0.4832 - val_loss: 0.4006\n",
      "Epoch 3/10\n",
      "10/10 [==============================] - 10s 975ms/step - loss: 0.3759 - val_loss: 0.3133\n",
      "Epoch 4/10\n",
      "10/10 [==============================] - 10s 967ms/step - loss: 0.3092 - val_loss: 0.2587\n",
      "Epoch 5/10\n",
      "10/10 [==============================] - 10s 1s/step - loss: 0.2674 - val_loss: 0.2234\n",
      "Epoch 6/10\n",
      "10/10 [==============================] - 10s 971ms/step - loss: 0.2401 - val_loss: 0.1987\n",
      "Epoch 7/10\n",
      "10/10 [==============================] - 10s 971ms/step - loss: 0.2207 - val_loss: 0.1802\n",
      "Epoch 8/10\n",
      "10/10 [==============================] - 10s 979ms/step - loss: 0.2060 - val_loss: 0.1657\n",
      "Epoch 9/10\n",
      "10/10 [==============================] - 10s 1s/step - loss: 0.1944 - val_loss: 0.1537\n",
      "Epoch 10/10\n",
      "10/10 [==============================] - 10s 980ms/step - loss: 0.1848 - val_loss: 0.1436\n"
     ]
    }
   ],
   "source": [
    "# Hyper parameters to GraphSAGE\n",
    "embedding_size = 64\n",
    "num_samples = [2,32]\n",
    "embedding_node_type = \"transaction\"\n",
    "hinsage = HinSAGE_Representation_Learner(embedding_size, num_samples, embedding_node_type)\n",
    "trained_hinsage_model, train_embedding = hinsage.train_hinsage(G, list(train_data.index), train_data['fraud_label'], batch_size=1000, epochs=10)"
   ]
  },
  {
   "cell_type": "markdown",
   "metadata": {},
   "source": [
    "### 4.2 Inductive Step GraphSAGE"
   ]
  },
  {
   "cell_type": "markdown",
   "metadata": {},
   "source": [
    "In this part, we want to compute the inductive embedding of a new transaction. To extract the embedding of the new transactions, we need to keep indices of the original graph nodes along with the new transaction nodes. We need to concatenate the test data frame to the train data frame to create a new graph that includes all nodes."
   ]
  },
  {
   "cell_type": "code",
   "execution_count": 77,
   "metadata": {},
   "outputs": [],
   "source": [
    "pd.options.mode.chained_assignment = None\n",
    "inductive_graph_data = pd.concat((train_data, inductive_data))\n",
    "inductive_graph_data = inductive_graph_data.set_index(inductive_graph_data['index'])#.drop(\"index\",axis = 1)"
   ]
  },
  {
   "cell_type": "markdown",
   "metadata": {},
   "source": [
    "For the inductive step, we need to add the new, unseen transactions to the graph. Because the current StellarGraph implementation does not support adding nodes and edges to an existing stellargraph object, we create a new graph that contains all the nodes from the train graph in addition to the new nodes."
   ]
  },
  {
   "cell_type": "code",
   "execution_count": 78,
   "metadata": {},
   "outputs": [
    {
     "name": "stdout",
     "output_type": "stream",
     "text": [
      "StellarGraph: Undirected multigraph\n",
      " Nodes: 13661, Edges: 24636\n",
      "\n",
      " Node types:\n",
      "  transaction: [12318]\n",
      "    Features: float32 vector, length 111\n",
      "    Edge types: transaction-default->client, transaction-default->merchant\n",
      "  client: [861]\n",
      "    Features: float32 vector, length 1\n",
      "    Edge types: client-default->transaction\n",
      "  merchant: [482]\n",
      "    Features: float32 vector, length 1\n",
      "    Edge types: merchant-default->transaction\n",
      "\n",
      " Edge types:\n",
      "    merchant-default->transaction: [12318]\n",
      "        Weights: all 1 (default)\n",
      "        Features: none\n",
      "    client-default->transaction: [12318]\n",
      "        Weights: all 1 (default)\n",
      "        Features: none\n"
     ]
    },
    {
     "name": "stderr",
     "output_type": "stream",
     "text": [
      "/opt/conda/envs/rapids/lib/python3.7/site-packages/ipykernel_launcher.py:10: DeprecationWarning: Constructing a StellarGraph directly from a NetworkX graph has been replaced by the `StellarGraph.from_networkx` function\n",
      "  # Remove the CWD from sys.path while we load stuff.\n"
     ]
    }
   ],
   "source": [
    "G_test = build_graph_features(inductive_graph_data)\n",
    "print(G_test.info())"
   ]
  },
  {
   "cell_type": "markdown",
   "metadata": {},
   "source": [
    "The inductive step applies the previously learned (and optimized) aggregation functions, part of the `trained_hinsage_model`. We also pass the new graph G_test and the node identifiers (inductive_data.index) to the inductive step. "
   ]
  },
  {
   "cell_type": "code",
   "execution_count": 79,
   "metadata": {},
   "outputs": [
    {
     "name": "stdout",
     "output_type": "stream",
     "text": [
      "53/53 [==============================] - 1s 8ms/step\n"
     ]
    }
   ],
   "source": [
    "inductive_embedding = hinsage.inductive_step_hinsage(G_test, trained_hinsage_model, inductive_data.index, batch_size=5)"
   ]
  },
  {
   "cell_type": "markdown",
   "metadata": {},
   "source": [
    "### 5. Classification: predictions based on inductive embeddings"
   ]
  },
  {
   "cell_type": "markdown",
   "metadata": {},
   "source": [
    "Now a selected classifier (XGBoost) can be trained using the training node embedding and test on the test node embedding."
   ]
  },
  {
   "cell_type": "code",
   "execution_count": 80,
   "metadata": {},
   "outputs": [],
   "source": [
    "from xgboost import XGBClassifier\n",
    "\n",
    "classifier = XGBClassifier(n_estimators=100)"
   ]
  },
  {
   "cell_type": "markdown",
   "metadata": {},
   "source": [
    "If requested, the original transaction features are added to the generated embeddings. If these features are added, a baseline consisting of only these features (without embeddings) is included to analyze the net impact of embeddings on the predictive performance."
   ]
  },
  {
   "cell_type": "code",
   "execution_count": 81,
   "metadata": {},
   "outputs": [
    {
     "name": "stderr",
     "output_type": "stream",
     "text": [
      "/opt/conda/envs/rapids/lib/python3.7/site-packages/xgboost/sklearn.py:888: UserWarning: The use of label encoder in XGBClassifier is deprecated and will be removed in a future release. To remove this warning, do the following: 1) Pass option use_label_encoder=False when constructing XGBClassifier object; and 2) Encode your labels (y) as integers starting with 0, i.e. 0, 1, 2, ..., [num_class - 1].\n",
      "  warnings.warn(label_encoder_deprecation_msg, UserWarning)\n"
     ]
    },
    {
     "name": "stdout",
     "output_type": "stream",
     "text": [
      "[18:56:09] WARNING: /rapids/xgboost/src/learner.cc:1061: Starting in XGBoost 1.3.0, the default evaluation metric used with the objective 'binary:logistic' was changed from 'error' to 'logloss'. Explicitly set eval_metric if you'd like to restore the old behavior.\n",
      "[18:56:09] WARNING: /rapids/xgboost/src/learner.cc:1061: Starting in XGBoost 1.3.0, the default evaluation metric used with the objective 'binary:logistic' was changed from 'error' to 'logloss'. Explicitly set eval_metric if you'd like to restore the old behavior.\n"
     ]
    }
   ],
   "source": [
    "col_drop = [\"fraud_label\"]\n",
    "train_labels = train_data['fraud_label']\n",
    "\n",
    "baseline_train = train_data.drop(col_drop, axis=1)\n",
    "baseline_inductive = inductive_data.drop(col_drop, axis=1)\n",
    "\n",
    "classifier.fit(baseline_train, train_labels)\n",
    "baseline_predictions = classifier.predict_proba(baseline_inductive)\n",
    "    \n",
    "classifier.fit(train_embedding, train_labels)\n",
    "predictions = classifier.predict_proba(inductive_embedding)\n"
   ]
  },
  {
   "cell_type": "markdown",
   "metadata": {},
   "source": [
    "### 6. Evaluation"
   ]
  },
  {
   "cell_type": "markdown",
   "metadata": {},
   "source": [
    "Given the highly imbalanced nature of our dataset, we evaluate the results based on precision-recall and ROC curves."
   ]
  },
  {
   "cell_type": "code",
   "execution_count": 84,
   "metadata": {},
   "outputs": [
    {
     "name": "stdout",
     "output_type": "stream",
     "text": [
      "Average precision-recall score for  GraphSAGE+features  configuration XGBoost: 0.8021196111\n",
      "Average precision-recall score for  Baseline  configuration XGBoost: 0.4552021575\n"
     ]
    },
    {
     "data": {
      "text/plain": [
       "<matplotlib.lines.Line2D at 0x7fd207683650>"
      ]
     },
     "execution_count": 84,
     "metadata": {},
     "output_type": "execute_result"
    },
    {
     "data": {
      "image/png": "[encoded data removed]",
      "text/plain": [
       "<Figure size 576x432 with 1 Axes>"
      ]
     },
     "metadata": {
      "needs_background": "light"
     },
     "output_type": "display_data"
    }
   ],
   "source": [
    "#from inductiveGRL.evaluation import Evaluation\n",
    "inductive_labels = inductive_data['fraud_label'] #df.loc[inductive_emb.index]['fraud_label']\n",
    "plt.figure(figsize=(8, 6))\n",
    "graphsage_evaluation = Evaluation(predictions, inductive_labels, \"GraphSAGE+features\") \n",
    "graphsage_evaluation.pr_curve()\n",
    "\n",
    "#if add_additional_data is True:\n",
    "\n",
    "baseline_evaluation = Evaluation(baseline_predictions, inductive_labels, \"Baseline\")\n",
    "baseline_evaluation.pr_curve()\n",
    "plt.axvline(x=0.8, color='k', linestyle='--')"
   ]
  },
  {
   "cell_type": "code",
   "execution_count": 85,
   "metadata": {},
   "outputs": [
    {
     "name": "stdout",
     "output_type": "stream",
     "text": [
      "ROC score for  GraphSAGE+features  configuration : 0.9720000000\n",
      "ROC score for  Baseline  configuration : 0.7190000000\n"
     ]
    },
    {
     "data": {
      "text/plain": [
       "[<matplotlib.lines.Line2D at 0x7fd207330510>]"
      ]
     },
     "execution_count": 85,
     "metadata": {},
     "output_type": "execute_result"
    },
    {
     "data": {
      "image/png": "[encoded data removed]",
      "text/plain": [
       "<Figure size 576x432 with 1 Axes>"
      ]
     },
     "metadata": {
      "needs_background": "light"
     },
     "output_type": "display_data"
    }
   ],
   "source": [
    "plt.figure(figsize=(8, 6))\n",
    "graphsage_evaluation.roc_curve()\n",
    "baseline_evaluation.roc_curve()\n",
    "plt.plot(np.arange(0,1.1,0.1), np.arange(0,1.1,0.1),'k--')"
   ]
  },
  {
   "cell_type": "markdown",
   "metadata": {},
   "source": [
    "The result show, using GNN embedded features achieves better peformance compared to the XGBoost trained on raw features. We see a significant improvement in precision and recall over the GNN on raw features."
   ]
  },
  {
   "cell_type": "markdown",
   "metadata": {},
   "source": [
    "### 6.2 Save models"
   ]
  },
  {
   "cell_type": "markdown",
   "metadata": {},
   "source": [
    "We can save the two trained models, a graphsage and xgboost into their respective save format. For infernce, graphsage is loaded as tensorflow model, and the XGBoost is loaded using `cuml` *Forest Inference Library (FIL)*."
   ]
  },
  {
   "cell_type": "code",
   "execution_count": 30,
   "metadata": {},
   "outputs": [],
   "source": [
    "model_dir= \"model/\"\n",
    "#model = {}\n",
    "graph_sage_model = os.path.join(model_dir, 'fd_graphsage.pth')\n",
    "xgb_model = os.path.join(model_dir, 'xgb.pth')\n",
    "trained_hinsage_model.save(output_hinsage)\n",
    "classifier.save_model(output_xgboost)"
   ]
  },
  {
   "cell_type": "code",
   "execution_count": 52,
   "metadata": {},
   "outputs": [],
   "source": [
    "## For inference we can load from file as follows. \n",
    "from cuml import ForestInference\n",
    "\n",
    "graph_sage = tf.keras.models.load_model(graph_sage_model)\n",
    "fm = ForestInference.load(xgb_model, output_class=True)\n",
    "\n",
    "# do inference on loaded models."
   ]
  },
  {
   "cell_type": "markdown",
   "metadata": {},
   "source": [
    "### 7. Conclusion"
   ]
  },
  {
   "cell_type": "markdown",
   "metadata": {},
   "source": [
    "In this workflow, we show a hybrid approach how to use Graph Neural network along XGBoost for a fraud detection on credit card transaction network. For further, optimized inference pipeline refer to `Morpheus` inference pipeline of fraud detection."
   ]
  },
  {
   "cell_type": "markdown",
   "metadata": {},
   "source": [
    "### Reference\n",
    "1. Van Belle, Rafaël, et al. \"Inductive Graph Representation Learning for fraud detection.\" Expert Systems with Applications (2022): 116463.\n",
    "2.https://stellargraph.readthedocs.io/en/stable/hinsage.html?highlight=hinsage\n",
    "3.https://github.com/rapidsai/clx/blob/branch-0.20/examples/forest_inference/xgboost_training.ipynb\""
   ]
  },
  {
   "cell_type": "code",
   "execution_count": null,
   "metadata": {},
   "outputs": [],
   "source": []
  }
 ],
 "metadata": {
  "kernelspec": {
   "display_name": "Python 3",
   "language": "python",
   "name": "python3"
  },
  "language_info": {
   "codemirror_mode": {
    "name": "ipython",
    "version": 3
   },
   "file_extension": ".py",
   "mimetype": "text/x-python",
   "name": "python",
   "nbconvert_exporter": "python",
   "pygments_lexer": "ipython3",
   "version": "3.7.10"
  }
 },
 "nbformat": 4,
 "nbformat_minor": 4
}
